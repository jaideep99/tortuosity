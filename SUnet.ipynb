{
  "nbformat": 4,
  "nbformat_minor": 0,
  "metadata": {
    "colab": {
      "name": "SUnet.ipynb",
      "provenance": [],
      "collapsed_sections": []
    },
    "kernelspec": {
      "name": "python3",
      "display_name": "Python 3"
    },
    "accelerator": "GPU"
  },
  "cells": [
    {
      "cell_type": "code",
      "metadata": {
        "id": "ELBkuZ7y4pBG",
        "colab": {
          "base_uri": "https://localhost:8080/"
        },
        "outputId": "17105deb-9f21-4c25-9643-a59d95ba873a"
      },
      "source": [
        "%tensorflow_version 1.14.0"
      ],
      "execution_count": null,
      "outputs": [
        {
          "output_type": "stream",
          "text": [
            "`%tensorflow_version` only switches the major version: 1.x or 2.x.\n",
            "You set: `1.14.0`. This will be interpreted as: `1.x`.\n",
            "\n",
            "\n",
            "TensorFlow 1.x selected.\n"
          ],
          "name": "stdout"
        }
      ]
    },
    {
      "cell_type": "code",
      "metadata": {
        "id": "SmZGCWVBh3xH",
        "colab": {
          "base_uri": "https://localhost:8080/"
        },
        "outputId": "4fac934d-9cfd-4090-9a6f-4a0f8edba3f0"
      },
      "source": [
        "!pip install scipy==1.2.1"
      ],
      "execution_count": null,
      "outputs": [
        {
          "output_type": "stream",
          "text": [
            "Collecting scipy==1.2.1\n",
            "\u001b[?25l  Downloading https://files.pythonhosted.org/packages/7f/5f/c48860704092933bf1c4c1574a8de1ffd16bf4fde8bab190d747598844b2/scipy-1.2.1-cp36-cp36m-manylinux1_x86_64.whl (24.8MB)\n",
            "\u001b[K     |████████████████████████████████| 24.8MB 129kB/s \n",
            "\u001b[?25hRequirement already satisfied: numpy>=1.8.2 in /usr/local/lib/python3.6/dist-packages (from scipy==1.2.1) (1.18.5)\n",
            "\u001b[31mERROR: umap-learn 0.4.6 has requirement scipy>=1.3.1, but you'll have scipy 1.2.1 which is incompatible.\u001b[0m\n",
            "\u001b[31mERROR: albumentations 0.1.12 has requirement imgaug<0.2.7,>=0.2.5, but you'll have imgaug 0.2.9 which is incompatible.\u001b[0m\n",
            "Installing collected packages: scipy\n",
            "  Found existing installation: scipy 1.4.1\n",
            "    Uninstalling scipy-1.4.1:\n",
            "      Successfully uninstalled scipy-1.4.1\n",
            "Successfully installed scipy-1.2.1\n"
          ],
          "name": "stdout"
        }
      ]
    },
    {
      "cell_type": "code",
      "metadata": {
        "id": "9IWFk1HaPUg9",
        "colab": {
          "base_uri": "https://localhost:8080/"
        },
        "outputId": "d4477b1e-f78b-4d89-cb12-2242af8f3455"
      },
      "source": [
        "cd drive/My\\ Drive/vessel/sunet"
      ],
      "execution_count": null,
      "outputs": [
        {
          "output_type": "stream",
          "text": [
            "/content/drive/My Drive/vessel/sunet\n"
          ],
          "name": "stdout"
        }
      ]
    },
    {
      "cell_type": "code",
      "metadata": {
        "id": "CD7ej6AhQHHR",
        "colab": {
          "base_uri": "https://localhost:8080/"
        },
        "outputId": "bd512f68-d5f2-4fb3-d00c-a96062467b75"
      },
      "source": [
        "import os\n",
        "\n",
        "import cv2\n",
        "from keras.callbacks import TensorBoard, ModelCheckpoint\n",
        "import matplotlib.pyplot as plt\n",
        "import numpy as np\n",
        "from  scipy.misc.pilutil import *\n"
      ],
      "execution_count": null,
      "outputs": [
        {
          "output_type": "stream",
          "text": [
            "Using TensorFlow backend.\n"
          ],
          "name": "stderr"
        }
      ]
    },
    {
      "cell_type": "code",
      "metadata": {
        "id": "InE1c_dVSqlF"
      },
      "source": [
        "train_loc = 'data/train/image/'\n",
        "val_loc = 'data/val/image/'\n",
        "\n",
        "train_label_loc = 'data/train/label/'\n",
        "val_label_loc = 'data/val/label/'"
      ],
      "execution_count": null,
      "outputs": []
    },
    {
      "cell_type": "code",
      "metadata": {
        "id": "I4vJlQIeS_WQ"
      },
      "source": [
        "timage = os.listdir(train_loc)\n",
        "tlabel = os.listdir(train_label_loc)\n",
        "\n",
        "vimage = os.listdir(val_loc)\n",
        "vlabel = os.listdir(val_label_loc)"
      ],
      "execution_count": null,
      "outputs": []
    },
    {
      "cell_type": "code",
      "metadata": {
        "id": "M_-qbuDsUa2x"
      },
      "source": [
        "train_data = []\n",
        "train_label = []\n",
        "val_data = []\n",
        "val_label = []"
      ],
      "execution_count": null,
      "outputs": []
    },
    {
      "cell_type": "code",
      "metadata": {
        "id": "lV0x0BC5Tr8N"
      },
      "source": [
        "def border(image,label,size):\n",
        "  cur = image.shape[:2]\n",
        "  dw = size - cur[1]\n",
        "  dh = size - cur[0]\n",
        "\n",
        "  top, bottom = dh // 2, dh - (dh // 2)\n",
        "  left, right = dw // 2, dw - (dw // 2)\n",
        "\n",
        "  color = [0, 0, 0]\n",
        "  color2 = [0]\n",
        "\n",
        "  new_im = cv2.copyMakeBorder(image, top, bottom, left, right, cv2.BORDER_CONSTANT,\n",
        "                                value=color)\n",
        "\n",
        "  new_label = cv2.copyMakeBorder(label, top, bottom, left, right, cv2.BORDER_CONSTANT,\n",
        "                                   value=color2)\n",
        "  \n",
        "  x = cv2.resize(new_im,(size,size))\n",
        "\n",
        "  y = cv2.resize(new_label, (size, size))\n",
        "  _, y = cv2.threshold(y, 127, 255, cv2.THRESH_BINARY)\n",
        "\n",
        "  return x,y"
      ],
      "execution_count": null,
      "outputs": []
    },
    {
      "cell_type": "code",
      "metadata": {
        "id": "Ep88zm9sU8R7",
        "colab": {
          "base_uri": "https://localhost:8080/"
        },
        "outputId": "e4ea304f-8014-4697-f868-9b3ea47b04e6"
      },
      "source": [
        "i=0\n",
        "for xname,yname in zip(timage,tlabel):\n",
        "  print(i)\n",
        "\n",
        "  image = imread(train_loc + xname)\n",
        "  label = imread(train_label_loc + yname,mode = 'L')\n",
        "\n",
        "  x,y = border(image,label,592)\n",
        "\n",
        "  train_data.append(x)\n",
        "  train_label.append(y)\n",
        "  i+=1\n",
        "\n",
        "i=0\n",
        "for xname,yname in zip(vimage,vlabel):\n",
        "  print(i)\n",
        "\n",
        "  image = imread(val_loc + xname)\n",
        "  label = imread(val_label_loc + yname,mode='L')\n",
        "\n",
        "  x,y = border(image,label,592)\n",
        "\n",
        "  val_data.append(x)\n",
        "  val_label.append(y)\n",
        "  i+=1"
      ],
      "execution_count": null,
      "outputs": [
        {
          "output_type": "stream",
          "text": [
            "0\n"
          ],
          "name": "stdout"
        },
        {
          "output_type": "stream",
          "text": [
            "/usr/local/lib/python3.6/dist-packages/ipykernel_launcher.py:5: DeprecationWarning: `imread` is deprecated!\n",
            "`imread` is deprecated in SciPy 1.0.0, and will be removed in 1.2.0.\n",
            "Use ``imageio.imread`` instead.\n",
            "  \"\"\"\n",
            "/usr/local/lib/python3.6/dist-packages/ipykernel_launcher.py:6: DeprecationWarning: `imread` is deprecated!\n",
            "`imread` is deprecated in SciPy 1.0.0, and will be removed in 1.2.0.\n",
            "Use ``imageio.imread`` instead.\n",
            "  \n"
          ],
          "name": "stderr"
        },
        {
          "output_type": "stream",
          "text": [
            "1\n",
            "2\n",
            "3\n",
            "4\n",
            "5\n",
            "6\n",
            "7\n",
            "8\n",
            "9\n",
            "10\n",
            "11\n",
            "12\n",
            "13\n",
            "14\n",
            "15\n",
            "16\n",
            "17\n",
            "18\n",
            "19\n",
            "20\n",
            "21\n",
            "22\n",
            "23\n",
            "24\n",
            "25\n",
            "26\n",
            "27\n",
            "28\n",
            "29\n",
            "30\n",
            "31\n",
            "32\n",
            "33\n",
            "34\n",
            "35\n",
            "36\n",
            "37\n",
            "38\n",
            "39\n",
            "40\n",
            "41\n",
            "42\n",
            "43\n",
            "44\n",
            "45\n",
            "46\n",
            "47\n",
            "48\n",
            "49\n",
            "50\n",
            "51\n",
            "52\n",
            "53\n",
            "54\n",
            "55\n",
            "56\n",
            "57\n",
            "58\n",
            "59\n",
            "60\n",
            "61\n",
            "62\n",
            "63\n",
            "64\n",
            "65\n",
            "66\n",
            "67\n",
            "68\n",
            "69\n",
            "70\n",
            "71\n",
            "72\n",
            "73\n",
            "74\n",
            "75\n",
            "76\n",
            "77\n",
            "78\n",
            "79\n",
            "80\n",
            "81\n",
            "82\n",
            "83\n",
            "84\n",
            "85\n",
            "86\n",
            "87\n",
            "88\n",
            "89\n",
            "90\n",
            "91\n",
            "92\n",
            "93\n",
            "94\n",
            "95\n",
            "96\n",
            "97\n",
            "98\n",
            "99\n",
            "100\n",
            "101\n",
            "102\n",
            "103\n",
            "104\n",
            "105\n",
            "106\n",
            "107\n",
            "108\n",
            "109\n",
            "110\n",
            "111\n",
            "112\n",
            "113\n",
            "114\n",
            "115\n",
            "116\n",
            "117\n",
            "118\n",
            "119\n",
            "120\n",
            "121\n",
            "122\n",
            "123\n",
            "124\n",
            "125\n",
            "126\n",
            "127\n",
            "128\n",
            "129\n",
            "130\n",
            "131\n",
            "132\n",
            "133\n",
            "134\n",
            "135\n",
            "136\n",
            "137\n",
            "138\n",
            "139\n",
            "140\n",
            "141\n",
            "142\n",
            "143\n",
            "144\n",
            "145\n",
            "146\n",
            "147\n",
            "148\n",
            "149\n",
            "150\n",
            "151\n",
            "152\n",
            "153\n",
            "154\n",
            "155\n",
            "156\n",
            "157\n",
            "158\n",
            "159\n",
            "160\n",
            "161\n",
            "162\n",
            "163\n",
            "164\n",
            "165\n",
            "166\n",
            "167\n",
            "168\n",
            "169\n",
            "170\n",
            "171\n",
            "172\n",
            "173\n",
            "174\n",
            "175\n",
            "176\n",
            "177\n",
            "178\n",
            "179\n",
            "180\n",
            "181\n",
            "182\n",
            "183\n",
            "184\n",
            "185\n",
            "186\n",
            "187\n",
            "188\n",
            "189\n",
            "190\n",
            "191\n",
            "192\n",
            "193\n",
            "194\n",
            "195\n",
            "196\n",
            "197\n",
            "198\n",
            "199\n",
            "200\n",
            "201\n",
            "202\n",
            "203\n",
            "204\n",
            "205\n",
            "206\n",
            "207\n",
            "208\n",
            "209\n",
            "210\n",
            "211\n",
            "212\n",
            "213\n",
            "214\n",
            "215\n",
            "216\n",
            "217\n",
            "218\n",
            "219\n",
            "220\n",
            "221\n",
            "222\n",
            "223\n",
            "224\n",
            "225\n",
            "226\n",
            "227\n",
            "228\n",
            "229\n",
            "230\n",
            "231\n",
            "232\n",
            "233\n",
            "0\n"
          ],
          "name": "stdout"
        },
        {
          "output_type": "stream",
          "text": [
            "/usr/local/lib/python3.6/dist-packages/ipykernel_launcher.py:18: DeprecationWarning: `imread` is deprecated!\n",
            "`imread` is deprecated in SciPy 1.0.0, and will be removed in 1.2.0.\n",
            "Use ``imageio.imread`` instead.\n",
            "/usr/local/lib/python3.6/dist-packages/ipykernel_launcher.py:19: DeprecationWarning: `imread` is deprecated!\n",
            "`imread` is deprecated in SciPy 1.0.0, and will be removed in 1.2.0.\n",
            "Use ``imageio.imread`` instead.\n"
          ],
          "name": "stderr"
        },
        {
          "output_type": "stream",
          "text": [
            "1\n",
            "2\n",
            "3\n",
            "4\n",
            "5\n",
            "6\n",
            "7\n",
            "8\n",
            "9\n",
            "10\n",
            "11\n",
            "12\n",
            "13\n",
            "14\n",
            "15\n",
            "16\n",
            "17\n",
            "18\n",
            "19\n",
            "20\n",
            "21\n",
            "22\n",
            "23\n",
            "24\n",
            "25\n"
          ],
          "name": "stdout"
        }
      ]
    },
    {
      "cell_type": "code",
      "metadata": {
        "id": "UYalzYsKhqe9"
      },
      "source": [
        "train_data = np.array(train_data)\n",
        "train_label = np.array(train_label)\n",
        "\n",
        "val_data = np.array(val_data)\n",
        "val_label  = np.array(val_label)"
      ],
      "execution_count": null,
      "outputs": []
    },
    {
      "cell_type": "code",
      "metadata": {
        "id": "D3Q0jK8FnCVh",
        "colab": {
          "base_uri": "https://localhost:8080/"
        },
        "outputId": "f2504a39-3654-4695-e474-0364f4fc42c1"
      },
      "source": [
        "print(train_data.shape,val_data.shape,train_label.shape,val_label.shape)"
      ],
      "execution_count": null,
      "outputs": [
        {
          "output_type": "stream",
          "text": [
            "(234, 592, 592, 3) (26, 592, 592, 3) (234, 592, 592) (26, 592, 592)\n"
          ],
          "name": "stdout"
        }
      ]
    },
    {
      "cell_type": "code",
      "metadata": {
        "id": "ZyRodY_ImUPC"
      },
      "source": [
        "size = 592\n",
        "\n",
        "x_train = train_data.astype('float32')/255\n",
        "x_train = np.reshape(x_train,(len(x_train),size,size,3))\n",
        "\n",
        "y_train = train_label.astype('float32')/255\n",
        "y_train = np.reshape(y_train,(len(y_train),size,size,1))\n",
        "\n",
        "x_val = val_data.astype('float32')/255\n",
        "x_val = np.reshape(x_val,(len(x_val),size,size,3))\n",
        "\n",
        "y_val = val_label.astype('float32')/255\n",
        "y_val = np.reshape(y_val,(len(y_val),size,size,1))"
      ],
      "execution_count": null,
      "outputs": []
    },
    {
      "cell_type": "code",
      "metadata": {
        "id": "jIzfSIW9OgZh",
        "colab": {
          "base_uri": "https://localhost:8080/"
        },
        "outputId": "99480bc0-5fff-4e6d-b15d-0977bce30b8d"
      },
      "source": [
        "pip install keras-drop-block"
      ],
      "execution_count": null,
      "outputs": [
        {
          "output_type": "stream",
          "text": [
            "Collecting keras-drop-block\n",
            "  Downloading https://files.pythonhosted.org/packages/2d/99/b74942bb2008fd9d1f81fa3827c1961a16030b47c83841bae304e5005c1e/keras-drop-block-0.5.0.tar.gz\n",
            "Requirement already satisfied: numpy in /usr/local/lib/python3.6/dist-packages (from keras-drop-block) (1.18.5)\n",
            "Requirement already satisfied: Keras in /tensorflow-1.15.2/python3.6 (from keras-drop-block) (2.3.1)\n",
            "Requirement already satisfied: pyyaml in /usr/local/lib/python3.6/dist-packages (from Keras->keras-drop-block) (3.13)\n",
            "Requirement already satisfied: keras-preprocessing>=1.0.5 in /usr/local/lib/python3.6/dist-packages (from Keras->keras-drop-block) (1.1.2)\n",
            "Requirement already satisfied: keras-applications>=1.0.6 in /tensorflow-1.15.2/python3.6 (from Keras->keras-drop-block) (1.0.8)\n",
            "Requirement already satisfied: h5py in /usr/local/lib/python3.6/dist-packages (from Keras->keras-drop-block) (2.10.0)\n",
            "Requirement already satisfied: scipy>=0.14 in /usr/local/lib/python3.6/dist-packages (from Keras->keras-drop-block) (1.2.1)\n",
            "Requirement already satisfied: six>=1.9.0 in /usr/local/lib/python3.6/dist-packages (from Keras->keras-drop-block) (1.15.0)\n",
            "Building wheels for collected packages: keras-drop-block\n",
            "  Building wheel for keras-drop-block (setup.py) ... \u001b[?25l\u001b[?25hdone\n",
            "  Created wheel for keras-drop-block: filename=keras_drop_block-0.5.0-cp36-none-any.whl size=6854 sha256=cae1186e8470e9d9f6034bb2315921ace8bd206d407434478b6f254c7a3fda16\n",
            "  Stored in directory: /root/.cache/pip/wheels/60/db/ba/01229d7458745b0204a30dc9f6f15526278ef544869b170509\n",
            "Successfully built keras-drop-block\n",
            "Installing collected packages: keras-drop-block\n",
            "Successfully installed keras-drop-block-0.5.0\n"
          ],
          "name": "stdout"
        }
      ]
    },
    {
      "cell_type": "code",
      "metadata": {
        "id": "GmYgELJbq0gL"
      },
      "source": [
        "from  SA_UNet import *"
      ],
      "execution_count": null,
      "outputs": []
    },
    {
      "cell_type": "code",
      "metadata": {
        "id": "_fps_9nCqtoL",
        "colab": {
          "base_uri": "https://localhost:8080/"
        },
        "outputId": "1a8a3aeb-4840-4a5a-9645-568254f85a3a"
      },
      "source": [
        "model=Backbone(input_size=(size,size,3),start_neurons=16,lr=0.001,keep_prob=0.82,block_size=7)\n",
        "model.summary()"
      ],
      "execution_count": null,
      "outputs": [
        {
          "output_type": "stream",
          "text": [
            "Model: \"model_3\"\n",
            "__________________________________________________________________________________________________\n",
            "Layer (type)                    Output Shape         Param #     Connected to                     \n",
            "==================================================================================================\n",
            "input_3 (InputLayer)            (None, 592, 592, 3)  0                                            \n",
            "__________________________________________________________________________________________________\n",
            "conv2d_33 (Conv2D)              (None, 592, 592, 16) 448         input_3[0][0]                    \n",
            "__________________________________________________________________________________________________\n",
            "drop_block2d_29 (DropBlock2D)   (None, 592, 592, 16) 0           conv2d_33[0][0]                  \n",
            "__________________________________________________________________________________________________\n",
            "batch_normalization_29 (BatchNo (None, 592, 592, 16) 64          drop_block2d_29[0][0]            \n",
            "__________________________________________________________________________________________________\n",
            "activation_31 (Activation)      (None, 592, 592, 16) 0           batch_normalization_29[0][0]     \n",
            "__________________________________________________________________________________________________\n",
            "conv2d_34 (Conv2D)              (None, 592, 592, 16) 2320        activation_31[0][0]              \n",
            "__________________________________________________________________________________________________\n",
            "drop_block2d_30 (DropBlock2D)   (None, 592, 592, 16) 0           conv2d_34[0][0]                  \n",
            "__________________________________________________________________________________________________\n",
            "batch_normalization_30 (BatchNo (None, 592, 592, 16) 64          drop_block2d_30[0][0]            \n",
            "__________________________________________________________________________________________________\n",
            "activation_32 (Activation)      (None, 592, 592, 16) 0           batch_normalization_30[0][0]     \n",
            "__________________________________________________________________________________________________\n",
            "max_pooling2d_37 (MaxPooling2D) (None, 296, 296, 16) 0           activation_32[0][0]              \n",
            "__________________________________________________________________________________________________\n",
            "conv2d_35 (Conv2D)              (None, 296, 296, 32) 4640        max_pooling2d_37[0][0]           \n",
            "__________________________________________________________________________________________________\n",
            "drop_block2d_31 (DropBlock2D)   (None, 296, 296, 32) 0           conv2d_35[0][0]                  \n",
            "__________________________________________________________________________________________________\n",
            "batch_normalization_31 (BatchNo (None, 296, 296, 32) 128         drop_block2d_31[0][0]            \n",
            "__________________________________________________________________________________________________\n",
            "activation_33 (Activation)      (None, 296, 296, 32) 0           batch_normalization_31[0][0]     \n",
            "__________________________________________________________________________________________________\n",
            "conv2d_36 (Conv2D)              (None, 296, 296, 32) 9248        activation_33[0][0]              \n",
            "__________________________________________________________________________________________________\n",
            "drop_block2d_32 (DropBlock2D)   (None, 296, 296, 32) 0           conv2d_36[0][0]                  \n",
            "__________________________________________________________________________________________________\n",
            "batch_normalization_32 (BatchNo (None, 296, 296, 32) 128         drop_block2d_32[0][0]            \n",
            "__________________________________________________________________________________________________\n",
            "activation_34 (Activation)      (None, 296, 296, 32) 0           batch_normalization_32[0][0]     \n",
            "__________________________________________________________________________________________________\n",
            "max_pooling2d_40 (MaxPooling2D) (None, 148, 148, 32) 0           activation_34[0][0]              \n",
            "__________________________________________________________________________________________________\n",
            "conv2d_37 (Conv2D)              (None, 148, 148, 64) 18496       max_pooling2d_40[0][0]           \n",
            "__________________________________________________________________________________________________\n",
            "drop_block2d_33 (DropBlock2D)   (None, 148, 148, 64) 0           conv2d_37[0][0]                  \n",
            "__________________________________________________________________________________________________\n",
            "batch_normalization_33 (BatchNo (None, 148, 148, 64) 256         drop_block2d_33[0][0]            \n",
            "__________________________________________________________________________________________________\n",
            "activation_35 (Activation)      (None, 148, 148, 64) 0           batch_normalization_33[0][0]     \n",
            "__________________________________________________________________________________________________\n",
            "conv2d_38 (Conv2D)              (None, 148, 148, 64) 36928       activation_35[0][0]              \n",
            "__________________________________________________________________________________________________\n",
            "drop_block2d_34 (DropBlock2D)   (None, 148, 148, 64) 0           conv2d_38[0][0]                  \n",
            "__________________________________________________________________________________________________\n",
            "batch_normalization_34 (BatchNo (None, 148, 148, 64) 256         drop_block2d_34[0][0]            \n",
            "__________________________________________________________________________________________________\n",
            "activation_36 (Activation)      (None, 148, 148, 64) 0           batch_normalization_34[0][0]     \n",
            "__________________________________________________________________________________________________\n",
            "max_pooling2d_43 (MaxPooling2D) (None, 74, 74, 64)   0           activation_36[0][0]              \n",
            "__________________________________________________________________________________________________\n",
            "conv2d_39 (Conv2D)              (None, 74, 74, 128)  73856       max_pooling2d_43[0][0]           \n",
            "__________________________________________________________________________________________________\n",
            "drop_block2d_35 (DropBlock2D)   (None, 74, 74, 128)  0           conv2d_39[0][0]                  \n",
            "__________________________________________________________________________________________________\n",
            "batch_normalization_35 (BatchNo (None, 74, 74, 128)  512         drop_block2d_35[0][0]            \n",
            "__________________________________________________________________________________________________\n",
            "activation_37 (Activation)      (None, 74, 74, 128)  0           batch_normalization_35[0][0]     \n",
            "__________________________________________________________________________________________________\n",
            "conv2d_40 (Conv2D)              (None, 74, 74, 128)  147584      activation_37[0][0]              \n",
            "__________________________________________________________________________________________________\n",
            "drop_block2d_36 (DropBlock2D)   (None, 74, 74, 128)  0           conv2d_40[0][0]                  \n",
            "__________________________________________________________________________________________________\n",
            "batch_normalization_36 (BatchNo (None, 74, 74, 128)  512         drop_block2d_36[0][0]            \n",
            "__________________________________________________________________________________________________\n",
            "activation_38 (Activation)      (None, 74, 74, 128)  0           batch_normalization_36[0][0]     \n",
            "__________________________________________________________________________________________________\n",
            "conv2d_transpose_7 (Conv2DTrans (None, 148, 148, 64) 73792       activation_38[0][0]              \n",
            "__________________________________________________________________________________________________\n",
            "concatenate_9 (Concatenate)     (None, 148, 148, 128 0           conv2d_transpose_7[0][0]         \n",
            "                                                                 activation_36[0][0]              \n",
            "__________________________________________________________________________________________________\n",
            "conv2d_41 (Conv2D)              (None, 148, 148, 64) 73792       concatenate_9[0][0]              \n",
            "__________________________________________________________________________________________________\n",
            "drop_block2d_37 (DropBlock2D)   (None, 148, 148, 64) 0           conv2d_41[0][0]                  \n",
            "__________________________________________________________________________________________________\n",
            "batch_normalization_37 (BatchNo (None, 148, 148, 64) 256         drop_block2d_37[0][0]            \n",
            "__________________________________________________________________________________________________\n",
            "activation_39 (Activation)      (None, 148, 148, 64) 0           batch_normalization_37[0][0]     \n",
            "__________________________________________________________________________________________________\n",
            "conv2d_42 (Conv2D)              (None, 148, 148, 64) 36928       activation_39[0][0]              \n",
            "__________________________________________________________________________________________________\n",
            "drop_block2d_38 (DropBlock2D)   (None, 148, 148, 64) 0           conv2d_42[0][0]                  \n",
            "__________________________________________________________________________________________________\n",
            "batch_normalization_38 (BatchNo (None, 148, 148, 64) 256         drop_block2d_38[0][0]            \n",
            "__________________________________________________________________________________________________\n",
            "activation_40 (Activation)      (None, 148, 148, 64) 0           batch_normalization_38[0][0]     \n",
            "__________________________________________________________________________________________________\n",
            "conv2d_transpose_8 (Conv2DTrans (None, 296, 296, 32) 18464       activation_40[0][0]              \n",
            "__________________________________________________________________________________________________\n",
            "concatenate_10 (Concatenate)    (None, 296, 296, 64) 0           conv2d_transpose_8[0][0]         \n",
            "                                                                 activation_34[0][0]              \n",
            "__________________________________________________________________________________________________\n",
            "conv2d_43 (Conv2D)              (None, 296, 296, 32) 18464       concatenate_10[0][0]             \n",
            "__________________________________________________________________________________________________\n",
            "drop_block2d_39 (DropBlock2D)   (None, 296, 296, 32) 0           conv2d_43[0][0]                  \n",
            "__________________________________________________________________________________________________\n",
            "batch_normalization_39 (BatchNo (None, 296, 296, 32) 128         drop_block2d_39[0][0]            \n",
            "__________________________________________________________________________________________________\n",
            "activation_41 (Activation)      (None, 296, 296, 32) 0           batch_normalization_39[0][0]     \n",
            "__________________________________________________________________________________________________\n",
            "conv2d_44 (Conv2D)              (None, 296, 296, 32) 9248        activation_41[0][0]              \n",
            "__________________________________________________________________________________________________\n",
            "drop_block2d_40 (DropBlock2D)   (None, 296, 296, 32) 0           conv2d_44[0][0]                  \n",
            "__________________________________________________________________________________________________\n",
            "batch_normalization_40 (BatchNo (None, 296, 296, 32) 128         drop_block2d_40[0][0]            \n",
            "__________________________________________________________________________________________________\n",
            "activation_42 (Activation)      (None, 296, 296, 32) 0           batch_normalization_40[0][0]     \n",
            "__________________________________________________________________________________________________\n",
            "conv2d_transpose_9 (Conv2DTrans (None, 592, 592, 16) 4624        activation_42[0][0]              \n",
            "__________________________________________________________________________________________________\n",
            "concatenate_11 (Concatenate)    (None, 592, 592, 32) 0           conv2d_transpose_9[0][0]         \n",
            "                                                                 activation_32[0][0]              \n",
            "__________________________________________________________________________________________________\n",
            "conv2d_45 (Conv2D)              (None, 592, 592, 16) 4624        concatenate_11[0][0]             \n",
            "__________________________________________________________________________________________________\n",
            "drop_block2d_41 (DropBlock2D)   (None, 592, 592, 16) 0           conv2d_45[0][0]                  \n",
            "__________________________________________________________________________________________________\n",
            "batch_normalization_41 (BatchNo (None, 592, 592, 16) 64          drop_block2d_41[0][0]            \n",
            "__________________________________________________________________________________________________\n",
            "activation_43 (Activation)      (None, 592, 592, 16) 0           batch_normalization_41[0][0]     \n",
            "__________________________________________________________________________________________________\n",
            "conv2d_46 (Conv2D)              (None, 592, 592, 16) 2320        activation_43[0][0]              \n",
            "__________________________________________________________________________________________________\n",
            "drop_block2d_42 (DropBlock2D)   (None, 592, 592, 16) 0           conv2d_46[0][0]                  \n",
            "__________________________________________________________________________________________________\n",
            "batch_normalization_42 (BatchNo (None, 592, 592, 16) 64          drop_block2d_42[0][0]            \n",
            "__________________________________________________________________________________________________\n",
            "activation_44 (Activation)      (None, 592, 592, 16) 0           batch_normalization_42[0][0]     \n",
            "__________________________________________________________________________________________________\n",
            "conv2d_47 (Conv2D)              (None, 592, 592, 1)  17          activation_44[0][0]              \n",
            "__________________________________________________________________________________________________\n",
            "activation_45 (Activation)      (None, 592, 592, 1)  0           conv2d_47[0][0]                  \n",
            "==================================================================================================\n",
            "Total params: 538,609\n",
            "Trainable params: 537,201\n",
            "Non-trainable params: 1,408\n",
            "__________________________________________________________________________________________________\n"
          ],
          "name": "stdout"
        },
        {
          "output_type": "stream",
          "text": [
            "/content/drive/My Drive/vessel/sunet/SA_UNet.py:98: UserWarning: Update your `Model` call to the Keras 2 API: `Model(inputs=Tensor(\"in..., outputs=Tensor(\"ac...)`\n",
            "  model = Model(input=inputs, output=output_layer)\n"
          ],
          "name": "stderr"
        }
      ]
    },
    {
      "cell_type": "code",
      "metadata": {
        "id": "Th5rWDDsPosN"
      },
      "source": [
        "model.compile(optimizer=Adam(lr=0.001), loss='binary_crossentropy', metrics=['accuracy'])"
      ],
      "execution_count": null,
      "outputs": []
    },
    {
      "cell_type": "code",
      "metadata": {
        "id": "lKq2fufUPkHJ"
      },
      "source": [
        "model.load_weights(weights)"
      ],
      "execution_count": null,
      "outputs": []
    },
    {
      "cell_type": "code",
      "metadata": {
        "id": "qP_uuHjwrnGM",
        "colab": {
          "base_uri": "https://localhost:8080/"
        },
        "outputId": "71a6b4c9-b2e4-42e8-a558-994efb9ab188"
      },
      "source": [
        "weights=\"model/SU-net.h5\"\n",
        "model_checkpoint = ModelCheckpoint(weights, monitor='val_accuracy', verbose=1, save_best_only=True)\n",
        "# ,validation_data=(x_val, y_val)\n",
        "history=model.fit(x_train, y_train,epochs=100,batch_size=8,validation_data=(x_val, y_val),shuffle=True,callbacks= [model_checkpoint])"
      ],
      "execution_count": null,
      "outputs": [
        {
          "output_type": "stream",
          "text": [
            "Train on 234 samples, validate on 26 samples\n",
            "Epoch 1/100\n",
            "234/234 [==============================] - 58s 249ms/step - loss: 0.4188 - accuracy: 0.8590 - val_loss: 0.4663 - val_accuracy: 0.9197\n",
            "\n",
            "Epoch 00001: val_accuracy improved from -inf to 0.91967, saving model to model/SU-net.h5\n",
            "Epoch 2/100\n",
            "234/234 [==============================] - 46s 196ms/step - loss: 0.3167 - accuracy: 0.9124 - val_loss: 0.3534 - val_accuracy: 0.9197\n",
            "\n",
            "Epoch 00002: val_accuracy did not improve from 0.91967\n",
            "Epoch 3/100\n",
            "234/234 [==============================] - 46s 195ms/step - loss: 0.2870 - accuracy: 0.9167 - val_loss: 0.2766 - val_accuracy: 0.9197\n",
            "\n",
            "Epoch 00003: val_accuracy did not improve from 0.91967\n",
            "Epoch 4/100\n",
            "234/234 [==============================] - 46s 195ms/step - loss: 0.2722 - accuracy: 0.9178 - val_loss: 0.2959 - val_accuracy: 0.9197\n",
            "\n",
            "Epoch 00004: val_accuracy did not improve from 0.91967\n",
            "Epoch 5/100\n",
            "234/234 [==============================] - 46s 195ms/step - loss: 0.2657 - accuracy: 0.9178 - val_loss: 0.2621 - val_accuracy: 0.9197\n",
            "\n",
            "Epoch 00005: val_accuracy did not improve from 0.91967\n",
            "Epoch 6/100\n",
            "234/234 [==============================] - 46s 195ms/step - loss: 0.2579 - accuracy: 0.9182 - val_loss: 0.2937 - val_accuracy: 0.9197\n",
            "\n",
            "Epoch 00006: val_accuracy did not improve from 0.91967\n",
            "Epoch 7/100\n",
            "234/234 [==============================] - 46s 195ms/step - loss: 0.2537 - accuracy: 0.9183 - val_loss: 0.3177 - val_accuracy: 0.9197\n",
            "\n",
            "Epoch 00007: val_accuracy did not improve from 0.91967\n",
            "Epoch 8/100\n",
            "234/234 [==============================] - 46s 195ms/step - loss: 0.2493 - accuracy: 0.9184 - val_loss: 0.2940 - val_accuracy: 0.9197\n",
            "\n",
            "Epoch 00008: val_accuracy did not improve from 0.91967\n",
            "Epoch 9/100\n",
            "234/234 [==============================] - 46s 195ms/step - loss: 0.2459 - accuracy: 0.9185 - val_loss: 0.2862 - val_accuracy: 0.9197\n",
            "\n",
            "Epoch 00009: val_accuracy did not improve from 0.91967\n",
            "Epoch 10/100\n",
            "234/234 [==============================] - 46s 195ms/step - loss: 0.2446 - accuracy: 0.9184 - val_loss: 0.2796 - val_accuracy: 0.9197\n",
            "\n",
            "Epoch 00010: val_accuracy did not improve from 0.91967\n",
            "Epoch 11/100\n",
            "234/234 [==============================] - 46s 195ms/step - loss: 0.2409 - accuracy: 0.9185 - val_loss: 0.2828 - val_accuracy: 0.9197\n",
            "\n",
            "Epoch 00011: val_accuracy did not improve from 0.91967\n",
            "Epoch 12/100\n",
            "234/234 [==============================] - 46s 195ms/step - loss: 0.2381 - accuracy: 0.9186 - val_loss: 0.2662 - val_accuracy: 0.9197\n",
            "\n",
            "Epoch 00012: val_accuracy did not improve from 0.91967\n",
            "Epoch 13/100\n",
            "234/234 [==============================] - 46s 195ms/step - loss: 0.2367 - accuracy: 0.9186 - val_loss: 0.2379 - val_accuracy: 0.9197\n",
            "\n",
            "Epoch 00013: val_accuracy did not improve from 0.91967\n",
            "Epoch 14/100\n",
            "234/234 [==============================] - 46s 195ms/step - loss: 0.2355 - accuracy: 0.9186 - val_loss: 0.2153 - val_accuracy: 0.9197\n",
            "\n",
            "Epoch 00014: val_accuracy did not improve from 0.91967\n",
            "Epoch 15/100\n",
            "234/234 [==============================] - 46s 195ms/step - loss: 0.2343 - accuracy: 0.9186 - val_loss: 0.2330 - val_accuracy: 0.9197\n",
            "\n",
            "Epoch 00015: val_accuracy did not improve from 0.91967\n",
            "Epoch 16/100\n",
            "234/234 [==============================] - 46s 195ms/step - loss: 0.2329 - accuracy: 0.9186 - val_loss: 0.2292 - val_accuracy: 0.9197\n",
            "\n",
            "Epoch 00016: val_accuracy did not improve from 0.91967\n",
            "Epoch 17/100\n",
            "234/234 [==============================] - 46s 194ms/step - loss: 0.2317 - accuracy: 0.9186 - val_loss: 0.2101 - val_accuracy: 0.9197\n",
            "\n",
            "Epoch 00017: val_accuracy did not improve from 0.91967\n",
            "Epoch 18/100\n",
            "234/234 [==============================] - 46s 195ms/step - loss: 0.2311 - accuracy: 0.9186 - val_loss: 0.2136 - val_accuracy: 0.9197\n",
            "\n",
            "Epoch 00018: val_accuracy improved from 0.91967 to 0.91968, saving model to model/SU-net.h5\n",
            "Epoch 19/100\n",
            "234/234 [==============================] - 46s 195ms/step - loss: 0.2306 - accuracy: 0.9187 - val_loss: 0.2167 - val_accuracy: 0.9197\n",
            "\n",
            "Epoch 00019: val_accuracy improved from 0.91968 to 0.91974, saving model to model/SU-net.h5\n",
            "Epoch 20/100\n",
            "234/234 [==============================] - 46s 195ms/step - loss: 0.2291 - accuracy: 0.9187 - val_loss: 0.2116 - val_accuracy: 0.9208\n",
            "\n",
            "Epoch 00020: val_accuracy improved from 0.91974 to 0.92078, saving model to model/SU-net.h5\n",
            "Epoch 21/100\n",
            "234/234 [==============================] - 46s 195ms/step - loss: 0.2287 - accuracy: 0.9186 - val_loss: 0.2156 - val_accuracy: 0.9201\n",
            "\n",
            "Epoch 00021: val_accuracy did not improve from 0.92078\n",
            "Epoch 22/100\n",
            "234/234 [==============================] - 45s 194ms/step - loss: 0.2275 - accuracy: 0.9188 - val_loss: 0.2144 - val_accuracy: 0.9207\n",
            "\n",
            "Epoch 00022: val_accuracy did not improve from 0.92078\n",
            "Epoch 23/100\n",
            "234/234 [==============================] - 46s 195ms/step - loss: 0.2278 - accuracy: 0.9188 - val_loss: 0.2113 - val_accuracy: 0.9209\n",
            "\n",
            "Epoch 00023: val_accuracy improved from 0.92078 to 0.92093, saving model to model/SU-net.h5\n",
            "Epoch 24/100\n",
            "234/234 [==============================] - 46s 195ms/step - loss: 0.2275 - accuracy: 0.9188 - val_loss: 0.2029 - val_accuracy: 0.9248\n",
            "\n",
            "Epoch 00024: val_accuracy improved from 0.92093 to 0.92475, saving model to model/SU-net.h5\n",
            "Epoch 25/100\n",
            "234/234 [==============================] - 46s 195ms/step - loss: 0.2271 - accuracy: 0.9189 - val_loss: 0.2142 - val_accuracy: 0.9227\n",
            "\n",
            "Epoch 00025: val_accuracy did not improve from 0.92475\n",
            "Epoch 26/100\n",
            "234/234 [==============================] - 46s 195ms/step - loss: 0.2267 - accuracy: 0.9188 - val_loss: 0.2202 - val_accuracy: 0.9214\n",
            "\n",
            "Epoch 00026: val_accuracy did not improve from 0.92475\n",
            "Epoch 27/100\n",
            "234/234 [==============================] - 46s 195ms/step - loss: 0.2261 - accuracy: 0.9188 - val_loss: 0.2155 - val_accuracy: 0.9264\n",
            "\n",
            "Epoch 00027: val_accuracy improved from 0.92475 to 0.92643, saving model to model/SU-net.h5\n",
            "Epoch 28/100\n",
            "234/234 [==============================] - 46s 195ms/step - loss: 0.2267 - accuracy: 0.9187 - val_loss: 0.2002 - val_accuracy: 0.9254\n",
            "\n",
            "Epoch 00028: val_accuracy did not improve from 0.92643\n",
            "Epoch 29/100\n",
            "234/234 [==============================] - 46s 195ms/step - loss: 0.2251 - accuracy: 0.9191 - val_loss: 0.2024 - val_accuracy: 0.9234\n",
            "\n",
            "Epoch 00029: val_accuracy did not improve from 0.92643\n",
            "Epoch 30/100\n",
            "234/234 [==============================] - 46s 195ms/step - loss: 0.2250 - accuracy: 0.9192 - val_loss: 0.2062 - val_accuracy: 0.9276\n",
            "\n",
            "Epoch 00030: val_accuracy improved from 0.92643 to 0.92755, saving model to model/SU-net.h5\n",
            "Epoch 31/100\n",
            "234/234 [==============================] - 46s 195ms/step - loss: 0.2253 - accuracy: 0.9191 - val_loss: 0.1955 - val_accuracy: 0.9289\n",
            "\n",
            "Epoch 00031: val_accuracy improved from 0.92755 to 0.92890, saving model to model/SU-net.h5\n",
            "Epoch 32/100\n",
            "234/234 [==============================] - 46s 195ms/step - loss: 0.2246 - accuracy: 0.9190 - val_loss: 0.1973 - val_accuracy: 0.9258\n",
            "\n",
            "Epoch 00032: val_accuracy did not improve from 0.92890\n",
            "Epoch 33/100\n",
            "234/234 [==============================] - 46s 195ms/step - loss: 0.2243 - accuracy: 0.9191 - val_loss: 0.2103 - val_accuracy: 0.9255\n",
            "\n",
            "Epoch 00033: val_accuracy did not improve from 0.92890\n",
            "Epoch 34/100\n",
            "234/234 [==============================] - 46s 195ms/step - loss: 0.2240 - accuracy: 0.9191 - val_loss: 0.2247 - val_accuracy: 0.9244\n",
            "\n",
            "Epoch 00034: val_accuracy did not improve from 0.92890\n",
            "Epoch 35/100\n",
            "234/234 [==============================] - 46s 195ms/step - loss: 0.2232 - accuracy: 0.9195 - val_loss: 0.1949 - val_accuracy: 0.9288\n",
            "\n",
            "Epoch 00035: val_accuracy did not improve from 0.92890\n",
            "Epoch 36/100\n",
            "234/234 [==============================] - 46s 195ms/step - loss: 0.2243 - accuracy: 0.9190 - val_loss: 0.2024 - val_accuracy: 0.9277\n",
            "\n",
            "Epoch 00036: val_accuracy did not improve from 0.92890\n",
            "Epoch 37/100\n",
            "234/234 [==============================] - 46s 195ms/step - loss: 0.2235 - accuracy: 0.9194 - val_loss: 0.2104 - val_accuracy: 0.9266\n",
            "\n",
            "Epoch 00037: val_accuracy did not improve from 0.92890\n",
            "Epoch 38/100\n",
            "234/234 [==============================] - 46s 195ms/step - loss: 0.2233 - accuracy: 0.9191 - val_loss: 0.2218 - val_accuracy: 0.9294\n",
            "\n",
            "Epoch 00038: val_accuracy improved from 0.92890 to 0.92942, saving model to model/SU-net.h5\n",
            "Epoch 39/100\n",
            "234/234 [==============================] - 46s 195ms/step - loss: 0.2232 - accuracy: 0.9194 - val_loss: 0.1924 - val_accuracy: 0.9282\n",
            "\n",
            "Epoch 00039: val_accuracy did not improve from 0.92942\n",
            "Epoch 40/100\n",
            "234/234 [==============================] - 46s 195ms/step - loss: 0.2239 - accuracy: 0.9192 - val_loss: 0.2034 - val_accuracy: 0.9246\n",
            "\n",
            "Epoch 00040: val_accuracy did not improve from 0.92942\n",
            "Epoch 41/100\n",
            "234/234 [==============================] - 46s 195ms/step - loss: 0.2231 - accuracy: 0.9191 - val_loss: 0.2193 - val_accuracy: 0.9293\n",
            "\n",
            "Epoch 00041: val_accuracy did not improve from 0.92942\n",
            "Epoch 42/100\n",
            "234/234 [==============================] - 46s 195ms/step - loss: 0.2220 - accuracy: 0.9196 - val_loss: 0.2064 - val_accuracy: 0.9245\n",
            "\n",
            "Epoch 00042: val_accuracy did not improve from 0.92942\n",
            "Epoch 43/100\n",
            "234/234 [==============================] - 46s 195ms/step - loss: 0.2218 - accuracy: 0.9193 - val_loss: 0.2037 - val_accuracy: 0.9312\n",
            "\n",
            "Epoch 00043: val_accuracy improved from 0.92942 to 0.93124, saving model to model/SU-net.h5\n",
            "Epoch 44/100\n",
            "234/234 [==============================] - 46s 195ms/step - loss: 0.2221 - accuracy: 0.9195 - val_loss: 0.2012 - val_accuracy: 0.9286\n",
            "\n",
            "Epoch 00044: val_accuracy did not improve from 0.93124\n",
            "Epoch 45/100\n",
            "234/234 [==============================] - 46s 195ms/step - loss: 0.2219 - accuracy: 0.9196 - val_loss: 0.1926 - val_accuracy: 0.9300\n",
            "\n",
            "Epoch 00045: val_accuracy did not improve from 0.93124\n",
            "Epoch 46/100\n",
            "234/234 [==============================] - 46s 195ms/step - loss: 0.2231 - accuracy: 0.9189 - val_loss: 0.2109 - val_accuracy: 0.9306\n",
            "\n",
            "Epoch 00046: val_accuracy did not improve from 0.93124\n",
            "Epoch 47/100\n",
            "234/234 [==============================] - 46s 195ms/step - loss: 0.2214 - accuracy: 0.9195 - val_loss: 0.2048 - val_accuracy: 0.9270\n",
            "\n",
            "Epoch 00047: val_accuracy did not improve from 0.93124\n",
            "Epoch 48/100\n",
            "234/234 [==============================] - 46s 195ms/step - loss: 0.2211 - accuracy: 0.9200 - val_loss: 0.2135 - val_accuracy: 0.9232\n",
            "\n",
            "Epoch 00048: val_accuracy did not improve from 0.93124\n",
            "Epoch 49/100\n",
            "234/234 [==============================] - 46s 195ms/step - loss: 0.2214 - accuracy: 0.9196 - val_loss: 0.1969 - val_accuracy: 0.9257\n",
            "\n",
            "Epoch 00049: val_accuracy did not improve from 0.93124\n",
            "Epoch 50/100\n",
            "234/234 [==============================] - 46s 195ms/step - loss: 0.2218 - accuracy: 0.9198 - val_loss: 0.2054 - val_accuracy: 0.9307\n",
            "\n",
            "Epoch 00050: val_accuracy did not improve from 0.93124\n",
            "Epoch 51/100\n",
            "234/234 [==============================] - 46s 195ms/step - loss: 0.2223 - accuracy: 0.9191 - val_loss: 0.2048 - val_accuracy: 0.9248\n",
            "\n",
            "Epoch 00051: val_accuracy did not improve from 0.93124\n",
            "Epoch 52/100\n",
            "234/234 [==============================] - 46s 195ms/step - loss: 0.2213 - accuracy: 0.9193 - val_loss: 0.2119 - val_accuracy: 0.9283\n",
            "\n",
            "Epoch 00052: val_accuracy did not improve from 0.93124\n",
            "Epoch 53/100\n",
            "234/234 [==============================] - 46s 195ms/step - loss: 0.2201 - accuracy: 0.9203 - val_loss: 0.2038 - val_accuracy: 0.9268\n",
            "\n",
            "Epoch 00053: val_accuracy did not improve from 0.93124\n",
            "Epoch 54/100\n",
            "234/234 [==============================] - 46s 195ms/step - loss: 0.2208 - accuracy: 0.9194 - val_loss: 0.2165 - val_accuracy: 0.9273\n",
            "\n",
            "Epoch 00054: val_accuracy did not improve from 0.93124\n",
            "Epoch 55/100\n",
            "234/234 [==============================] - 46s 195ms/step - loss: 0.2209 - accuracy: 0.9198 - val_loss: 0.1983 - val_accuracy: 0.9278\n",
            "\n",
            "Epoch 00055: val_accuracy did not improve from 0.93124\n",
            "Epoch 56/100\n",
            "234/234 [==============================] - 46s 195ms/step - loss: 0.2200 - accuracy: 0.9202 - val_loss: 0.2007 - val_accuracy: 0.9289\n",
            "\n",
            "Epoch 00056: val_accuracy did not improve from 0.93124\n",
            "Epoch 57/100\n",
            "234/234 [==============================] - 46s 195ms/step - loss: 0.2195 - accuracy: 0.9203 - val_loss: 0.1899 - val_accuracy: 0.9299\n",
            "\n",
            "Epoch 00057: val_accuracy did not improve from 0.93124\n",
            "Epoch 58/100\n",
            "234/234 [==============================] - 46s 195ms/step - loss: 0.2196 - accuracy: 0.9204 - val_loss: 0.2007 - val_accuracy: 0.9259\n",
            "\n",
            "Epoch 00058: val_accuracy did not improve from 0.93124\n",
            "Epoch 59/100\n",
            "234/234 [==============================] - 46s 195ms/step - loss: 0.2197 - accuracy: 0.9204 - val_loss: 0.1951 - val_accuracy: 0.9279\n",
            "\n",
            "Epoch 00059: val_accuracy did not improve from 0.93124\n",
            "Epoch 60/100\n",
            "234/234 [==============================] - 46s 195ms/step - loss: 0.2195 - accuracy: 0.9202 - val_loss: 0.1951 - val_accuracy: 0.9313\n",
            "\n",
            "Epoch 00060: val_accuracy improved from 0.93124 to 0.93126, saving model to model/SU-net.h5\n",
            "Epoch 61/100\n",
            "234/234 [==============================] - 46s 195ms/step - loss: 0.2194 - accuracy: 0.9207 - val_loss: 0.2112 - val_accuracy: 0.9215\n",
            "\n",
            "Epoch 00061: val_accuracy did not improve from 0.93126\n",
            "Epoch 62/100\n",
            "234/234 [==============================] - 46s 195ms/step - loss: 0.2200 - accuracy: 0.9203 - val_loss: 0.1978 - val_accuracy: 0.9304\n",
            "\n",
            "Epoch 00062: val_accuracy did not improve from 0.93126\n",
            "Epoch 63/100\n",
            "234/234 [==============================] - 46s 195ms/step - loss: 0.2195 - accuracy: 0.9203 - val_loss: 0.2094 - val_accuracy: 0.9274\n",
            "\n",
            "Epoch 00063: val_accuracy did not improve from 0.93126\n",
            "Epoch 64/100\n",
            "234/234 [==============================] - 46s 195ms/step - loss: 0.2200 - accuracy: 0.9198 - val_loss: 0.2031 - val_accuracy: 0.9270\n",
            "\n",
            "Epoch 00064: val_accuracy did not improve from 0.93126\n",
            "Epoch 65/100\n",
            "234/234 [==============================] - 46s 195ms/step - loss: 0.2193 - accuracy: 0.9203 - val_loss: 0.1898 - val_accuracy: 0.9320\n",
            "\n",
            "Epoch 00065: val_accuracy improved from 0.93126 to 0.93199, saving model to model/SU-net.h5\n",
            "Epoch 66/100\n",
            "234/234 [==============================] - 46s 195ms/step - loss: 0.2199 - accuracy: 0.9201 - val_loss: 0.2058 - val_accuracy: 0.9302\n",
            "\n",
            "Epoch 00066: val_accuracy did not improve from 0.93199\n",
            "Epoch 67/100\n",
            "234/234 [==============================] - 46s 195ms/step - loss: 0.2193 - accuracy: 0.9202 - val_loss: 0.1978 - val_accuracy: 0.9322\n",
            "\n",
            "Epoch 00067: val_accuracy improved from 0.93199 to 0.93219, saving model to model/SU-net.h5\n",
            "Epoch 68/100\n",
            "234/234 [==============================] - 46s 195ms/step - loss: 0.2198 - accuracy: 0.9199 - val_loss: 0.2085 - val_accuracy: 0.9266\n",
            "\n",
            "Epoch 00068: val_accuracy did not improve from 0.93219\n",
            "Epoch 69/100\n",
            "234/234 [==============================] - 46s 195ms/step - loss: 0.2196 - accuracy: 0.9200 - val_loss: 0.1976 - val_accuracy: 0.9278\n",
            "\n",
            "Epoch 00069: val_accuracy did not improve from 0.93219\n",
            "Epoch 70/100\n",
            "234/234 [==============================] - 46s 195ms/step - loss: 0.2183 - accuracy: 0.9206 - val_loss: 0.1948 - val_accuracy: 0.9307\n",
            "\n",
            "Epoch 00070: val_accuracy did not improve from 0.93219\n",
            "Epoch 71/100\n",
            "234/234 [==============================] - 46s 195ms/step - loss: 0.2188 - accuracy: 0.9205 - val_loss: 0.1959 - val_accuracy: 0.9302\n",
            "\n",
            "Epoch 00071: val_accuracy did not improve from 0.93219\n",
            "Epoch 72/100\n",
            "234/234 [==============================] - 46s 195ms/step - loss: 0.2173 - accuracy: 0.9213 - val_loss: 0.1929 - val_accuracy: 0.9296\n",
            "\n",
            "Epoch 00072: val_accuracy did not improve from 0.93219\n",
            "Epoch 73/100\n",
            "234/234 [==============================] - 46s 195ms/step - loss: 0.2186 - accuracy: 0.9208 - val_loss: 0.1884 - val_accuracy: 0.9324\n",
            "\n",
            "Epoch 00073: val_accuracy improved from 0.93219 to 0.93243, saving model to model/SU-net.h5\n",
            "Epoch 74/100\n",
            "234/234 [==============================] - 46s 195ms/step - loss: 0.2182 - accuracy: 0.9211 - val_loss: 0.2128 - val_accuracy: 0.9257\n",
            "\n",
            "Epoch 00074: val_accuracy did not improve from 0.93243\n",
            "Epoch 75/100\n",
            "234/234 [==============================] - 46s 195ms/step - loss: 0.2177 - accuracy: 0.9208 - val_loss: 0.2015 - val_accuracy: 0.9305\n",
            "\n",
            "Epoch 00075: val_accuracy did not improve from 0.93243\n",
            "Epoch 76/100\n",
            "234/234 [==============================] - 46s 195ms/step - loss: 0.2173 - accuracy: 0.9212 - val_loss: 0.2025 - val_accuracy: 0.9278\n",
            "\n",
            "Epoch 00076: val_accuracy did not improve from 0.93243\n",
            "Epoch 77/100\n",
            "234/234 [==============================] - 46s 195ms/step - loss: 0.2177 - accuracy: 0.9212 - val_loss: 0.1899 - val_accuracy: 0.9310\n",
            "\n",
            "Epoch 00077: val_accuracy did not improve from 0.93243\n",
            "Epoch 78/100\n",
            "234/234 [==============================] - 46s 195ms/step - loss: 0.2191 - accuracy: 0.9202 - val_loss: 0.2012 - val_accuracy: 0.9288\n",
            "\n",
            "Epoch 00078: val_accuracy did not improve from 0.93243\n",
            "Epoch 79/100\n",
            "234/234 [==============================] - 46s 195ms/step - loss: 0.2187 - accuracy: 0.9206 - val_loss: 0.2107 - val_accuracy: 0.9267\n",
            "\n",
            "Epoch 00079: val_accuracy did not improve from 0.93243\n",
            "Epoch 80/100\n",
            "234/234 [==============================] - 46s 195ms/step - loss: 0.2191 - accuracy: 0.9199 - val_loss: 0.1931 - val_accuracy: 0.9335\n",
            "\n",
            "Epoch 00080: val_accuracy improved from 0.93243 to 0.93348, saving model to model/SU-net.h5\n",
            "Epoch 81/100\n",
            "234/234 [==============================] - 46s 195ms/step - loss: 0.2176 - accuracy: 0.9211 - val_loss: 0.2086 - val_accuracy: 0.9264\n",
            "\n",
            "Epoch 00081: val_accuracy did not improve from 0.93348\n",
            "Epoch 82/100\n",
            "234/234 [==============================] - 46s 195ms/step - loss: 0.2181 - accuracy: 0.9206 - val_loss: 0.1966 - val_accuracy: 0.9317\n",
            "\n",
            "Epoch 00082: val_accuracy did not improve from 0.93348\n",
            "Epoch 83/100\n",
            "234/234 [==============================] - 46s 195ms/step - loss: 0.2177 - accuracy: 0.9207 - val_loss: 0.1903 - val_accuracy: 0.9326\n",
            "\n",
            "Epoch 00083: val_accuracy did not improve from 0.93348\n",
            "Epoch 84/100\n",
            "234/234 [==============================] - 46s 195ms/step - loss: 0.2174 - accuracy: 0.9211 - val_loss: 0.1979 - val_accuracy: 0.9317\n",
            "\n",
            "Epoch 00084: val_accuracy did not improve from 0.93348\n",
            "Epoch 85/100\n",
            "234/234 [==============================] - 46s 195ms/step - loss: 0.2173 - accuracy: 0.9211 - val_loss: 0.1930 - val_accuracy: 0.9319\n",
            "\n",
            "Epoch 00085: val_accuracy did not improve from 0.93348\n",
            "Epoch 86/100\n",
            "234/234 [==============================] - 46s 196ms/step - loss: 0.2178 - accuracy: 0.9210 - val_loss: 0.2039 - val_accuracy: 0.9237\n",
            "\n",
            "Epoch 00086: val_accuracy did not improve from 0.93348\n",
            "Epoch 87/100\n",
            "234/234 [==============================] - 46s 195ms/step - loss: 0.2176 - accuracy: 0.9209 - val_loss: 0.1897 - val_accuracy: 0.9325\n",
            "\n",
            "Epoch 00087: val_accuracy did not improve from 0.93348\n",
            "Epoch 88/100\n",
            "234/234 [==============================] - 46s 195ms/step - loss: 0.2175 - accuracy: 0.9209 - val_loss: 0.1985 - val_accuracy: 0.9282\n",
            "\n",
            "Epoch 00088: val_accuracy did not improve from 0.93348\n",
            "Epoch 89/100\n",
            "234/234 [==============================] - 46s 195ms/step - loss: 0.2178 - accuracy: 0.9205 - val_loss: 0.2329 - val_accuracy: 0.9222\n",
            "\n",
            "Epoch 00089: val_accuracy did not improve from 0.93348\n",
            "Epoch 90/100\n",
            "234/234 [==============================] - 46s 195ms/step - loss: 0.2163 - accuracy: 0.9217 - val_loss: 0.1899 - val_accuracy: 0.9309\n",
            "\n",
            "Epoch 00090: val_accuracy did not improve from 0.93348\n",
            "Epoch 91/100\n",
            "234/234 [==============================] - 46s 195ms/step - loss: 0.2170 - accuracy: 0.9211 - val_loss: 0.2070 - val_accuracy: 0.9312\n",
            "\n",
            "Epoch 00091: val_accuracy did not improve from 0.93348\n",
            "Epoch 92/100\n",
            "234/234 [==============================] - 46s 195ms/step - loss: 0.2166 - accuracy: 0.9212 - val_loss: 0.1880 - val_accuracy: 0.9333\n",
            "\n",
            "Epoch 00092: val_accuracy did not improve from 0.93348\n",
            "Epoch 93/100\n",
            "234/234 [==============================] - 46s 195ms/step - loss: 0.2161 - accuracy: 0.9222 - val_loss: 0.2079 - val_accuracy: 0.9244\n",
            "\n",
            "Epoch 00093: val_accuracy did not improve from 0.93348\n",
            "Epoch 94/100\n",
            "234/234 [==============================] - 46s 196ms/step - loss: 0.2166 - accuracy: 0.9212 - val_loss: 0.1919 - val_accuracy: 0.9318\n",
            "\n",
            "Epoch 00094: val_accuracy did not improve from 0.93348\n",
            "Epoch 95/100\n",
            "234/234 [==============================] - 46s 196ms/step - loss: 0.2162 - accuracy: 0.9216 - val_loss: 0.1942 - val_accuracy: 0.9314\n",
            "\n",
            "Epoch 00095: val_accuracy did not improve from 0.93348\n",
            "Epoch 96/100\n",
            "234/234 [==============================] - 46s 195ms/step - loss: 0.2170 - accuracy: 0.9210 - val_loss: 0.1909 - val_accuracy: 0.9344\n",
            "\n",
            "Epoch 00096: val_accuracy improved from 0.93348 to 0.93442, saving model to model/SU-net.h5\n",
            "Epoch 97/100\n",
            "234/234 [==============================] - 46s 196ms/step - loss: 0.2162 - accuracy: 0.9216 - val_loss: 0.1952 - val_accuracy: 0.9319\n",
            "\n",
            "Epoch 00097: val_accuracy did not improve from 0.93442\n",
            "Epoch 98/100\n",
            "234/234 [==============================] - 46s 195ms/step - loss: 0.2161 - accuracy: 0.9218 - val_loss: 0.1924 - val_accuracy: 0.9325\n",
            "\n",
            "Epoch 00098: val_accuracy did not improve from 0.93442\n",
            "Epoch 99/100\n",
            "234/234 [==============================] - 46s 196ms/step - loss: 0.2179 - accuracy: 0.9206 - val_loss: 0.1971 - val_accuracy: 0.9328\n",
            "\n",
            "Epoch 00099: val_accuracy did not improve from 0.93442\n",
            "Epoch 100/100\n",
            "234/234 [==============================] - 46s 196ms/step - loss: 0.2174 - accuracy: 0.9210 - val_loss: 0.1941 - val_accuracy: 0.9323\n",
            "\n",
            "Epoch 00100: val_accuracy did not improve from 0.93442\n"
          ],
          "name": "stdout"
        }
      ]
    },
    {
      "cell_type": "code",
      "metadata": {
        "id": "Wx8cO0PBrgCj",
        "colab": {
          "base_uri": "https://localhost:8080/",
          "height": 312
        },
        "outputId": "be08cd4f-cbaf-4785-a19e-80d57efcfe2d"
      },
      "source": [
        "\n",
        "print(history.history.keys())\n",
        "\n",
        "# summarize history for accuracy\n",
        "plt.plot(history.history['accuracy'])\n",
        "plt.plot(history.history['val_accuracy'])\n",
        "plt.title('SA-UNet Accuracy')\n",
        "plt.ylabel('accuracy')\n",
        "plt.xlabel('epoch')\n",
        "plt.legend(['train', 'validate'], loc='lower right')\n",
        "plt.show()"
      ],
      "execution_count": null,
      "outputs": [
        {
          "output_type": "stream",
          "text": [
            "dict_keys(['val_loss', 'val_accuracy', 'loss', 'accuracy'])\n"
          ],
          "name": "stdout"
        },
        {
          "output_type": "display_data",
          "data": {
            "image/png": "[encoded data removed]",
            "text/plain": [
              "<Figure size 432x288 with 1 Axes>"
            ]
          },
          "metadata": {
            "tags": [],
            "needs_background": "light"
          }
        }
      ]
    },
    {
      "cell_type": "code",
      "metadata": {
        "id": "EmUWmQrpRGbc"
      },
      "source": [
        "def testborder(image,size):\n",
        "  cur = image.shape[:2]\n",
        "  dw = size - cur[1]\n",
        "  dh = size - cur[0]\n",
        "\n",
        "  top, bottom = dh // 2, dh - (dh // 2)\n",
        "  left, right = dw // 2, dw - (dw // 2)\n",
        "\n",
        "  color = [0, 0, 0]\n",
        "  new_im = cv2.copyMakeBorder(image, top, bottom, left, right, cv2.BORDER_CONSTANT,\n",
        "                                value=color)\n",
        "  \n",
        "  x = cv2.resize(new_im,(size,size))\n",
        "\n",
        "  return x"
      ],
      "execution_count": null,
      "outputs": []
    },
    {
      "cell_type": "code",
      "metadata": {
        "id": "VJJNznzqLfRa"
      },
      "source": [
        "pmodel = SA_UNet(input_size=(size,size,3),start_neurons=16,lr=0.001,keep_prob=0.82,block_size=7)\n",
        "pmodel.load_weights('SA_UNet.h5')"
      ],
      "execution_count": null,
      "outputs": []
    },
    {
      "cell_type": "code",
      "metadata": {
        "id": "9zAdxFljQxOl"
      },
      "source": [
        "test_loc = 'datasets/test/images/'\n",
        "\n",
        "test_files = os.listdir(test_loc)\n",
        "test_data = []\n",
        "size=592"
      ],
      "execution_count": null,
      "outputs": []
    },
    {
      "cell_type": "code",
      "metadata": {
        "id": "4Wekdl3sRAes"
      },
      "source": [
        "i=0\n",
        "for xname in test_files:\n",
        "  print(i)\n",
        "\n",
        "  image = imread(test_loc + xname)\n",
        "  x = testborder(image,592)\n",
        "\n",
        "  test_data.append(x)\n",
        "  i+=1\n",
        "\n",
        "test_data = np.array(test_data)\n",
        "x_test = test_data.astype('float32') / 255.\n",
        "x_test = np.reshape(x_test, (len(x_test), size, size, 3))"
      ],
      "execution_count": null,
      "outputs": []
    },
    {
      "cell_type": "code",
      "metadata": {
        "id": "5HlLkGHNSicw"
      },
      "source": [
        "y_pred = pmodel.predict(x_val)\n",
        "# pred = pmodel.predict(x_test)"
      ],
      "execution_count": null,
      "outputs": []
    },
    {
      "cell_type": "code",
      "metadata": {
        "id": "1NVNNR3nf70p",
        "colab": {
          "base_uri": "https://localhost:8080/"
        },
        "outputId": "0784a1f1-ce74-4603-938a-96d313c2fe28"
      },
      "source": [
        "print(y_pred.shape,y_val.shape)"
      ],
      "execution_count": null,
      "outputs": [
        {
          "output_type": "stream",
          "text": [
            "(26, 592, 592, 1) (26, 592, 592, 1)\n"
          ],
          "name": "stdout"
        }
      ]
    },
    {
      "cell_type": "code",
      "metadata": {
        "id": "_Y7XHTB6Sm1o"
      },
      "source": [
        "test = y_pred.copy()\n",
        "p = cv2.normalize(test,test,0,255,cv2.NORM_MINMAX)"
      ],
      "execution_count": null,
      "outputs": []
    },
    {
      "cell_type": "code",
      "metadata": {
        "id": "JldlNNmehze7"
      },
      "source": [
        "p[p<=64] = 0\n",
        "p[p>64]= 1"
      ],
      "execution_count": null,
      "outputs": []
    },
    {
      "cell_type": "code",
      "metadata": {
        "id": "GnKv5xpIjsQd"
      },
      "source": [
        "predicted = p.flatten()\n",
        "ground= y_val.flatten()"
      ],
      "execution_count": null,
      "outputs": []
    },
    {
      "cell_type": "code",
      "metadata": {
        "id": "fsIDtcg7kGDp"
      },
      "source": [
        "from sklearn.metrics import confusion_matrix,accuracy_score"
      ],
      "execution_count": null,
      "outputs": []
    },
    {
      "cell_type": "code",
      "metadata": {
        "id": "TsKDxwIRkNvv",
        "colab": {
          "base_uri": "https://localhost:8080/"
        },
        "outputId": "149cec3f-2f69-4fcb-9caa-70310de5c297"
      },
      "source": [
        "con_mat = confusion_matrix(ground,predicted)\n",
        "print(con_mat)"
      ],
      "execution_count": null,
      "outputs": [
        {
          "output_type": "stream",
          "text": [
            "[[7914686  465413]\n",
            " [ 283220  448745]]\n"
          ],
          "name": "stdout"
        }
      ]
    },
    {
      "cell_type": "code",
      "metadata": {
        "id": "1aOw1aUsTuPP"
      },
      "source": [
        "import seaborn as sns\n",
        "import numpy as np\n",
        "import matplotlib.pyplot as plt"
      ],
      "execution_count": null,
      "outputs": []
    },
    {
      "cell_type": "code",
      "metadata": {
        "id": "vIyrY5zlTwnz",
        "colab": {
          "base_uri": "https://localhost:8080/",
          "height": 293
        },
        "outputId": "384edf35-32c0-4045-a977-9378dd7db5f7"
      },
      "source": [
        "cf_matrix = np.array([[7914686,465413],[ 283220,448745]])\n",
        "\n",
        "names = ['True Pos','False Neg','False Pos','True Neg']\n",
        "counts = [\"{0:0.0f}\".format(value) for value in cf_matrix.flatten()]\n",
        "percentages = [\"{0:.2%}\".format(value) for value in cf_matrix.flatten()/np.sum(cf_matrix)]\n",
        "labels = [f\"{v1}\\n{v2}\\n{v3}\" for v1, v2, v3 in zip(names,counts,percentages)]\n",
        "\n",
        "labels = np.asarray(labels).reshape(2,2)\n",
        "sns.heatmap(cf_matrix, annot=labels,fmt = '',  cmap='Blues')"
      ],
      "execution_count": null,
      "outputs": [
        {
          "output_type": "execute_result",
          "data": {
            "text/plain": [
              "<matplotlib.axes._subplots.AxesSubplot at 0x7f64f648b1d0>"
            ]
          },
          "metadata": {
            "tags": []
          },
          "execution_count": 25
        },
        {
          "output_type": "display_data",
          "data": {
            "image/png": "[encoded data removed]",
            "text/plain": [
              "<Figure size 432x288 with 2 Axes>"
            ]
          },
          "metadata": {
            "tags": [],
            "needs_background": "light"
          }
        }
      ]
    },
    {
      "cell_type": "code",
      "metadata": {
        "id": "55QG6SVQkaxi",
        "colab": {
          "base_uri": "https://localhost:8080/"
        },
        "outputId": "8aff30ec-493d-40de-956c-513257d6ed00"
      },
      "source": [
        "accuracy = accuracy_score(ground,predicted)\n",
        "sensitivity = con_mat[0,0]/(con_mat[0,0]+con_mat[0,1])\n",
        "specificity = con_mat[1,1]/(con_mat[1,0]+con_mat[1,1])\n",
        "\n",
        "print('accuracy : ',accuracy)\n",
        "print('sensitivity : ',sensitivity)\n",
        "print('specificity : ',specificity)"
      ],
      "execution_count": null,
      "outputs": [
        {
          "output_type": "stream",
          "text": [
            "accuracy :  0.9178415559855594\n",
            "sensitivity :  0.9444621119631165\n",
            "specificity :  0.6130689308915044\n"
          ],
          "name": "stdout"
        }
      ]
    },
    {
      "cell_type": "code",
      "metadata": {
        "id": "opnNeAJOTA9I",
        "colab": {
          "base_uri": "https://localhost:8080/",
          "height": 626
        },
        "outputId": "da2b5d16-a639-4117-e936-2ad61b8fc871"
      },
      "source": [
        "from google.colab.patches import cv2_imshow\n",
        "cv2_imshow(p[2])\n",
        "cv2.waitKey(0)"
      ],
      "execution_count": null,
      "outputs": [
        {
          "output_type": "display_data",
          "data": {
            "image/png": "[encoded data removed]",
            "text/plain": [
              "<PIL.Image.Image image mode=RGB size=592x592 at 0x7F89670D6FD0>"
            ]
          },
          "metadata": {
            "tags": []
          }
        },
        {
          "output_type": "execute_result",
          "data": {
            "text/plain": [
              "-1"
            ]
          },
          "metadata": {
            "tags": []
          },
          "execution_count": 73
        }
      ]
    },
    {
      "cell_type": "code",
      "metadata": {
        "id": "kbk1h_0bMUMF"
      },
      "source": [
        "pred = "
      ],
      "execution_count": null,
      "outputs": []
    }
  ]
}